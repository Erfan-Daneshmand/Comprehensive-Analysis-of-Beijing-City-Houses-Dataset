{
 "cells": [
  {
   "attachments": {},
   "cell_type": "markdown",
   "metadata": {},
   "source": [
    "<h1 align=center style=\"line-height:200%;font-family:vazir;color:#0099cc\">\n",
    "<font face=\"vazir\" color=\"#0099cc\">\n",
    "Filling Missing Values\n",
    "</font>\n",
    "</h1>\n",
    "\n",
    "<p dir=ltr style=\"direction: ltr;text-align: justify;line-height:200%;font-family=vazir;font-size=medium\">\n",
    "<font face=\"vazir\" size=3>\n",
    "In the first step of the project, we become acquainted with how to read files with unusual characters, we examine the different features of each field and remove those we do not need. Next, we determine the number of rows with missing values and devise a solution to address them.\n",
    "</font>\n",
    "</p>\n"
   ]
  },
  {
   "attachments": {},
   "cell_type": "markdown",
   "metadata": {},
   "source": [
    "<h2 align=right style=\"line-height:200%;font-family=vazir;color:#0099cc\">\n",
    "<font face=\"vazir\" color=\"#0099cc\">\n",
    "Dataset\n",
    "</font>\n",
    "</h2>\n",
    "\n",
    "<p dir=ltr style=\"direction: ltr;text-align: left;line-height:200%;font-family=vazir;font-size=medium\">\n",
    "<font face=\"vazir\" size=3>\n",
    "The file <code>housing_data.csv</code> contains information about houses in Beijing. Since this dataset contains Chinese characters and the default pandas encoder cannot recognize them, we need to explicitly specify the appropriate encoder for this task. A complete list of encoders available in Python can be found at <a href=\"https://docs.python.org/3/library/codecs.html#standard-encodings\">this link</a>. However, the encoder we are looking for, which supports Chinese characters, is named <code>gbk</code>. Thus, we read the dataset file using this encoder and save the result in the variable <code>housing</code>.\n",
    "</font>\n",
    "</p>\n"
   ]
  },
  {
   "cell_type": "code",
   "execution_count": 1,
   "metadata": {
    "colab": {
     "base_uri": "https://localhost:8080/"
    },
    "id": "YNr1VLVxlidw",
    "outputId": "3336573b-18bb-4070-a361-57db8668623b",
    "scrolled": true
   },
   "outputs": [
    {
     "name": "stderr",
     "output_type": "stream",
     "text": [
      "C:\\Users\\Patience&Persistence\\AppData\\Local\\Temp\\ipykernel_30352\\259660202.py:2: DtypeWarning: Columns (2,10,11,13) have mixed types. Specify dtype option on import or set low_memory=False.\n",
      "  housing = pd.read_csv('housing_data.csv', encoding='gbk')\n"
     ]
    }
   ],
   "source": [
    "import pandas as pd\n",
    "housing = pd.read_csv('housing_data.csv', encoding='gbk')"
   ]
  },
  {
   "attachments": {},
   "cell_type": "markdown",
   "metadata": {
    "id": "s52aPJ06ms5l"
   },
   "source": [
    "<p dir=ltr style=\"direction: ltr;text-align: left;line-height:200%;font-family=vazir;font-size=medium\">\n",
    "<font face=\"vazir\" size=3>\n",
    "Let's now take a look at the number of rows and columns in the dataset:\n",
    "</font>\n",
    "</p>\n"
   ]
  },
  {
   "cell_type": "code",
   "execution_count": 2,
   "metadata": {
    "colab": {
     "base_uri": "https://localhost:8080/"
    },
    "id": "lhyVJNk5mv_e",
    "outputId": "b557c81e-ccfe-4bf4-a1fb-a898e68edae1",
    "scrolled": true
   },
   "outputs": [
    {
     "data": {
      "text/plain": [
       "(318851, 22)"
      ]
     },
     "execution_count": 2,
     "metadata": {},
     "output_type": "execute_result"
    }
   ],
   "source": [
    "housing.shape"
   ]
  },
  {
   "attachments": {},
   "cell_type": "markdown",
   "metadata": {
    "id": "Vnx9TUUrmw9m"
   },
   "source": [
    "<p dir=ltr style=\"direction: ltr;text-align: left;line-height:200%;font-family=vazir;font-size=medium\">\n",
    "<font face=\"vazir\" size=3>\n",
    "As we can see, information on more than three hundred thousand houses has been stored in this file. We are dealing with a relatively large dataset this time. Let’s take a look at the first ten columns of the data to get better acquainted with the information stored in this dataset.\n",
    "</font>\n",
    "</p>\n"
   ]
  },
  {
   "cell_type": "code",
   "execution_count": 3,
   "metadata": {
    "colab": {
     "base_uri": "https://localhost:8080/",
     "height": 558
    },
    "id": "7hSLFEvwnVBX",
    "outputId": "94dcccd6-57cc-4b4e-b44f-6651b4a9a54a",
    "scrolled": true
   },
   "outputs": [
    {
     "data": {
      "text/html": [
       "<div>\n",
       "<style scoped>\n",
       "    .dataframe tbody tr th:only-of-type {\n",
       "        vertical-align: middle;\n",
       "    }\n",
       "\n",
       "    .dataframe tbody tr th {\n",
       "        vertical-align: top;\n",
       "    }\n",
       "\n",
       "    .dataframe thead th {\n",
       "        text-align: right;\n",
       "    }\n",
       "</style>\n",
       "<table border=\"1\" class=\"dataframe\">\n",
       "  <thead>\n",
       "    <tr style=\"text-align: right;\">\n",
       "      <th></th>\n",
       "      <th>Unnamed: 0</th>\n",
       "      <th>url</th>\n",
       "      <th>id</th>\n",
       "      <th>Lng</th>\n",
       "      <th>Lat</th>\n",
       "      <th>Cid</th>\n",
       "      <th>tradeTime</th>\n",
       "      <th>DOM</th>\n",
       "      <th>totalPrice</th>\n",
       "      <th>square</th>\n",
       "      <th>...</th>\n",
       "      <th>kitchen</th>\n",
       "      <th>bathRoom</th>\n",
       "      <th>floor</th>\n",
       "      <th>constructionTime</th>\n",
       "      <th>renovationCondition</th>\n",
       "      <th>buildingStructure</th>\n",
       "      <th>ladderRatio</th>\n",
       "      <th>elevator</th>\n",
       "      <th>subway</th>\n",
       "      <th>district</th>\n",
       "    </tr>\n",
       "  </thead>\n",
       "  <tbody>\n",
       "    <tr>\n",
       "      <th>0</th>\n",
       "      <td>0</td>\n",
       "      <td>https://bj.lianjia.com/chengjiao/101084782030....</td>\n",
       "      <td>101084782030</td>\n",
       "      <td>116.475489</td>\n",
       "      <td>40.019520</td>\n",
       "      <td>1111027376244</td>\n",
       "      <td>2016-08-09</td>\n",
       "      <td>1464.0</td>\n",
       "      <td>415.0</td>\n",
       "      <td>131.00</td>\n",
       "      <td>...</td>\n",
       "      <td>1</td>\n",
       "      <td>1</td>\n",
       "      <td>高 26</td>\n",
       "      <td>2005</td>\n",
       "      <td>3</td>\n",
       "      <td>6</td>\n",
       "      <td>0.217</td>\n",
       "      <td>1.0</td>\n",
       "      <td>1.0</td>\n",
       "      <td>7</td>\n",
       "    </tr>\n",
       "    <tr>\n",
       "      <th>1</th>\n",
       "      <td>1</td>\n",
       "      <td>https://bj.lianjia.com/chengjiao/101086012217....</td>\n",
       "      <td>101086012217</td>\n",
       "      <td>116.453917</td>\n",
       "      <td>39.881534</td>\n",
       "      <td>1111027381879</td>\n",
       "      <td>2016-07-28</td>\n",
       "      <td>903.0</td>\n",
       "      <td>575.0</td>\n",
       "      <td>132.38</td>\n",
       "      <td>...</td>\n",
       "      <td>1</td>\n",
       "      <td>2</td>\n",
       "      <td>高 22</td>\n",
       "      <td>2004</td>\n",
       "      <td>4</td>\n",
       "      <td>6</td>\n",
       "      <td>0.667</td>\n",
       "      <td>1.0</td>\n",
       "      <td>0.0</td>\n",
       "      <td>7</td>\n",
       "    </tr>\n",
       "    <tr>\n",
       "      <th>2</th>\n",
       "      <td>2</td>\n",
       "      <td>https://bj.lianjia.com/chengjiao/101086041636....</td>\n",
       "      <td>101086041636</td>\n",
       "      <td>116.561978</td>\n",
       "      <td>39.877145</td>\n",
       "      <td>1111040862969</td>\n",
       "      <td>2016-12-11</td>\n",
       "      <td>1271.0</td>\n",
       "      <td>1030.0</td>\n",
       "      <td>198.00</td>\n",
       "      <td>...</td>\n",
       "      <td>1</td>\n",
       "      <td>3</td>\n",
       "      <td>中 4</td>\n",
       "      <td>2005</td>\n",
       "      <td>3</td>\n",
       "      <td>6</td>\n",
       "      <td>0.500</td>\n",
       "      <td>1.0</td>\n",
       "      <td>0.0</td>\n",
       "      <td>7</td>\n",
       "    </tr>\n",
       "    <tr>\n",
       "      <th>3</th>\n",
       "      <td>3</td>\n",
       "      <td>https://bj.lianjia.com/chengjiao/101086406841....</td>\n",
       "      <td>101086406841</td>\n",
       "      <td>116.438010</td>\n",
       "      <td>40.076114</td>\n",
       "      <td>1111043185817</td>\n",
       "      <td>2016-09-30</td>\n",
       "      <td>965.0</td>\n",
       "      <td>297.5</td>\n",
       "      <td>134.00</td>\n",
       "      <td>...</td>\n",
       "      <td>1</td>\n",
       "      <td>1</td>\n",
       "      <td>底 21</td>\n",
       "      <td>2008</td>\n",
       "      <td>1</td>\n",
       "      <td>6</td>\n",
       "      <td>0.273</td>\n",
       "      <td>1.0</td>\n",
       "      <td>0.0</td>\n",
       "      <td>6</td>\n",
       "    </tr>\n",
       "    <tr>\n",
       "      <th>4</th>\n",
       "      <td>4</td>\n",
       "      <td>https://bj.lianjia.com/chengjiao/101086920653....</td>\n",
       "      <td>101086920653</td>\n",
       "      <td>116.428392</td>\n",
       "      <td>39.886229</td>\n",
       "      <td>1111027381174</td>\n",
       "      <td>2016-08-28</td>\n",
       "      <td>927.0</td>\n",
       "      <td>392.0</td>\n",
       "      <td>81.00</td>\n",
       "      <td>...</td>\n",
       "      <td>1</td>\n",
       "      <td>1</td>\n",
       "      <td>中 6</td>\n",
       "      <td>1960</td>\n",
       "      <td>2</td>\n",
       "      <td>2</td>\n",
       "      <td>0.333</td>\n",
       "      <td>0.0</td>\n",
       "      <td>1.0</td>\n",
       "      <td>1</td>\n",
       "    </tr>\n",
       "  </tbody>\n",
       "</table>\n",
       "<p>5 rows × 22 columns</p>\n",
       "</div>"
      ],
      "text/plain": [
       "   Unnamed: 0                                                url  \\\n",
       "0           0  https://bj.lianjia.com/chengjiao/101084782030....   \n",
       "1           1  https://bj.lianjia.com/chengjiao/101086012217....   \n",
       "2           2  https://bj.lianjia.com/chengjiao/101086041636....   \n",
       "3           3  https://bj.lianjia.com/chengjiao/101086406841....   \n",
       "4           4  https://bj.lianjia.com/chengjiao/101086920653....   \n",
       "\n",
       "             id         Lng        Lat            Cid   tradeTime     DOM  \\\n",
       "0  101084782030  116.475489  40.019520  1111027376244  2016-08-09  1464.0   \n",
       "1  101086012217  116.453917  39.881534  1111027381879  2016-07-28   903.0   \n",
       "2  101086041636  116.561978  39.877145  1111040862969  2016-12-11  1271.0   \n",
       "3  101086406841  116.438010  40.076114  1111043185817  2016-09-30   965.0   \n",
       "4  101086920653  116.428392  39.886229  1111027381174  2016-08-28   927.0   \n",
       "\n",
       "   totalPrice  square  ... kitchen bathRoom  floor constructionTime  \\\n",
       "0       415.0  131.00  ...       1        1   高 26             2005   \n",
       "1       575.0  132.38  ...       1        2   高 22             2004   \n",
       "2      1030.0  198.00  ...       1        3    中 4             2005   \n",
       "3       297.5  134.00  ...       1        1   底 21             2008   \n",
       "4       392.0   81.00  ...       1        1    中 6             1960   \n",
       "\n",
       "  renovationCondition buildingStructure  ladderRatio  elevator  subway  \\\n",
       "0                   3                 6        0.217       1.0     1.0   \n",
       "1                   4                 6        0.667       1.0     0.0   \n",
       "2                   3                 6        0.500       1.0     0.0   \n",
       "3                   1                 6        0.273       1.0     0.0   \n",
       "4                   2                 2        0.333       0.0     1.0   \n",
       "\n",
       "   district  \n",
       "0         7  \n",
       "1         7  \n",
       "2         7  \n",
       "3         6  \n",
       "4         1  \n",
       "\n",
       "[5 rows x 22 columns]"
      ]
     },
     "execution_count": 3,
     "metadata": {},
     "output_type": "execute_result"
    }
   ],
   "source": [
    "housing.head(5)"
   ]
  },
  {
   "attachments": {},
   "cell_type": "markdown",
   "metadata": {},
   "source": [
    "<p dir=ltr style=\"direction: ltr;text-align: left;line-height:200%;font-family=vazir;font-size=medium\">\n",
    "<font face=\"vazir\" size=3>\n",
    "In the table below, each of the features of the houses (columns of the dataframe) is described:\n",
    "</font>\n",
    "</p>\n"
   ]
  },
  {
   "attachments": {},
   "cell_type": "markdown",
   "metadata": {
    "id": "3QLUzdDznaGb"
   },
   "source": [
    "<center>\n",
    "<table style=\"align: center; text-align: left; line-height:200%; font-family:vazir; font-size:medium\">\n",
    "  <tr>\n",
    "      <td><code>Unnamed: 0</code></td><td>This is the data index, which is not needed and should be removed.</td>\n",
    "  </tr>\n",
    "  <tr>\n",
    "      <td><code>url</code></td><td>Transaction link</td>\n",
    "  </tr>\n",
    "  <tr>\n",
    "      <td><code>id</code></td><td>Transaction ID</td>\n",
    "  </tr>\n",
    "  <tr>\n",
    "      <td><code>Lng</code></td><td>Longitude of the property</td>\n",
    "  </tr>\n",
    "  <tr>\n",
    "      <td><code>Lat</code></td><td>Latitude of the property</td>\n",
    "  </tr>\n",
    "  <tr>\n",
    "      <td><code>Cid</code></td><td>Buyer's ID</td>\n",
    "  </tr>\n",
    "  <tr>\n",
    "      <td><code>tradeTime</code></td><td>Time of transaction</td>\n",
    "  </tr>\n",
    "  <tr>\n",
    "      <td><code>DOM</code></td><td>Days on Market - the number of days the property has been listed for sale.</td>\n",
    "  </tr>\n",
    "  <tr>\n",
    "      <td><code>totalPrice</code></td><td>The price at which the house was sold.</td>\n",
    "  </tr>\n",
    "  <tr>\n",
    "      <td><code>square</code></td><td>Area of the house in square meters</td>\n",
    "  </tr>\n",
    "  <tr>\n",
    "      <td><code>livingRoom</code></td><td>Number of living rooms</td>\n",
    "  </tr>\n",
    "  <tr>\n",
    "      <td><code>drawingRoom</code></td><td>Number of drawing rooms</td>\n",
    "  </tr>\n",
    "  <tr>\n",
    "      <td><code>kitchen</code></td><td>Number of kitchens</td>\n",
    "  </tr>\n",
    "  <tr>\n",
    "      <td><code>bathRoom</code></td><td>Number of bathrooms</td>\n",
    "  </tr>\n",
    "  <tr>\n",
    "      <td><code>floor</code></td><td>Floor and elevation of the house</td>\n",
    "  </tr>\n",
    "  <tr>\n",
    "      <td><code>constructionTime</code></td><td>Year the house was built</td>\n",
    "  </tr>\n",
    "  <tr>\n",
    "      <td><code>renovationCondition</code></td><td>Condition of the renovation</td>\n",
    "  </tr>\n",
    "  <tr>\n",
    "      <td><code>buildingStructure</code></td><td>Building structure</td>\n",
    "  </tr>\n",
    "  <tr>\n",
    "      <td><code>ladderRatio</code></td><td>Floor and elevation ratio</td>\n",
    "  </tr>\n",
    "  <tr>\n",
    "      <td><code>elevator</code></td><td>Whether the house has an elevator</td>\n",
    "  </tr>\n",
    "  <tr>\n",
    "      <td><code>subway</code></td><td>Whether the house has subway access</td>\n",
    "  </tr>\n",
    "  <tr>\n",
    "      <td><code>district</code></td><td>District where the house is located</td>\n",
    "  </tr>\n",
    "</table>\n",
    "</center>\n"
   ]
  },
  {
   "cell_type": "markdown",
   "metadata": {
    "id": "JBS8Gk_isDie"
   },
   "source": [
    "<h2 align=right style=\"line-height:200%;font-family=vazir;color:#0099cc\">\n",
    "<font face=\"vazir\" color=\"#0099cc\">\n",
    "Part One\n",
    "</font>\n",
    "</h2>\n",
    "<p dir=ltr style=\"direction: ltr;text-align: left;line-height:200%;font-family=vazir;font-size=medium\">\n",
    "<font face=\"vazir\" size=3>\n",
    "We will delete the columns <code>url</code>, <code>id</code>, <code>Cid</code>, and the first column which was the data index, and save the new dataframe in the variable <code>housing_dropped</code>.\n",
    "</font>\n",
    "</p>\n"
   ]
  },
  {
   "cell_type": "code",
   "execution_count": 4,
   "metadata": {
    "id": "sx9KeILpnjno",
    "scrolled": true
   },
   "outputs": [
    {
     "data": {
      "text/html": [
       "<div>\n",
       "<style scoped>\n",
       "    .dataframe tbody tr th:only-of-type {\n",
       "        vertical-align: middle;\n",
       "    }\n",
       "\n",
       "    .dataframe tbody tr th {\n",
       "        vertical-align: top;\n",
       "    }\n",
       "\n",
       "    .dataframe thead th {\n",
       "        text-align: right;\n",
       "    }\n",
       "</style>\n",
       "<table border=\"1\" class=\"dataframe\">\n",
       "  <thead>\n",
       "    <tr style=\"text-align: right;\">\n",
       "      <th></th>\n",
       "      <th>Lng</th>\n",
       "      <th>Lat</th>\n",
       "      <th>tradeTime</th>\n",
       "      <th>DOM</th>\n",
       "      <th>totalPrice</th>\n",
       "      <th>square</th>\n",
       "      <th>livingRoom</th>\n",
       "      <th>drawingRoom</th>\n",
       "      <th>kitchen</th>\n",
       "      <th>bathRoom</th>\n",
       "      <th>floor</th>\n",
       "      <th>constructionTime</th>\n",
       "      <th>renovationCondition</th>\n",
       "      <th>buildingStructure</th>\n",
       "      <th>ladderRatio</th>\n",
       "      <th>elevator</th>\n",
       "      <th>subway</th>\n",
       "      <th>district</th>\n",
       "    </tr>\n",
       "  </thead>\n",
       "  <tbody>\n",
       "    <tr>\n",
       "      <th>0</th>\n",
       "      <td>116.475489</td>\n",
       "      <td>40.019520</td>\n",
       "      <td>2016-08-09</td>\n",
       "      <td>1464.0</td>\n",
       "      <td>415.0</td>\n",
       "      <td>131.00</td>\n",
       "      <td>2</td>\n",
       "      <td>1</td>\n",
       "      <td>1</td>\n",
       "      <td>1</td>\n",
       "      <td>高 26</td>\n",
       "      <td>2005</td>\n",
       "      <td>3</td>\n",
       "      <td>6</td>\n",
       "      <td>0.217</td>\n",
       "      <td>1.0</td>\n",
       "      <td>1.0</td>\n",
       "      <td>7</td>\n",
       "    </tr>\n",
       "    <tr>\n",
       "      <th>1</th>\n",
       "      <td>116.453917</td>\n",
       "      <td>39.881534</td>\n",
       "      <td>2016-07-28</td>\n",
       "      <td>903.0</td>\n",
       "      <td>575.0</td>\n",
       "      <td>132.38</td>\n",
       "      <td>2</td>\n",
       "      <td>2</td>\n",
       "      <td>1</td>\n",
       "      <td>2</td>\n",
       "      <td>高 22</td>\n",
       "      <td>2004</td>\n",
       "      <td>4</td>\n",
       "      <td>6</td>\n",
       "      <td>0.667</td>\n",
       "      <td>1.0</td>\n",
       "      <td>0.0</td>\n",
       "      <td>7</td>\n",
       "    </tr>\n",
       "    <tr>\n",
       "      <th>2</th>\n",
       "      <td>116.561978</td>\n",
       "      <td>39.877145</td>\n",
       "      <td>2016-12-11</td>\n",
       "      <td>1271.0</td>\n",
       "      <td>1030.0</td>\n",
       "      <td>198.00</td>\n",
       "      <td>3</td>\n",
       "      <td>2</td>\n",
       "      <td>1</td>\n",
       "      <td>3</td>\n",
       "      <td>中 4</td>\n",
       "      <td>2005</td>\n",
       "      <td>3</td>\n",
       "      <td>6</td>\n",
       "      <td>0.500</td>\n",
       "      <td>1.0</td>\n",
       "      <td>0.0</td>\n",
       "      <td>7</td>\n",
       "    </tr>\n",
       "    <tr>\n",
       "      <th>3</th>\n",
       "      <td>116.438010</td>\n",
       "      <td>40.076114</td>\n",
       "      <td>2016-09-30</td>\n",
       "      <td>965.0</td>\n",
       "      <td>297.5</td>\n",
       "      <td>134.00</td>\n",
       "      <td>3</td>\n",
       "      <td>1</td>\n",
       "      <td>1</td>\n",
       "      <td>1</td>\n",
       "      <td>底 21</td>\n",
       "      <td>2008</td>\n",
       "      <td>1</td>\n",
       "      <td>6</td>\n",
       "      <td>0.273</td>\n",
       "      <td>1.0</td>\n",
       "      <td>0.0</td>\n",
       "      <td>6</td>\n",
       "    </tr>\n",
       "    <tr>\n",
       "      <th>4</th>\n",
       "      <td>116.428392</td>\n",
       "      <td>39.886229</td>\n",
       "      <td>2016-08-28</td>\n",
       "      <td>927.0</td>\n",
       "      <td>392.0</td>\n",
       "      <td>81.00</td>\n",
       "      <td>2</td>\n",
       "      <td>1</td>\n",
       "      <td>1</td>\n",
       "      <td>1</td>\n",
       "      <td>中 6</td>\n",
       "      <td>1960</td>\n",
       "      <td>2</td>\n",
       "      <td>2</td>\n",
       "      <td>0.333</td>\n",
       "      <td>0.0</td>\n",
       "      <td>1.0</td>\n",
       "      <td>1</td>\n",
       "    </tr>\n",
       "  </tbody>\n",
       "</table>\n",
       "</div>"
      ],
      "text/plain": [
       "          Lng        Lat   tradeTime     DOM  totalPrice  square livingRoom  \\\n",
       "0  116.475489  40.019520  2016-08-09  1464.0       415.0  131.00          2   \n",
       "1  116.453917  39.881534  2016-07-28   903.0       575.0  132.38          2   \n",
       "2  116.561978  39.877145  2016-12-11  1271.0      1030.0  198.00          3   \n",
       "3  116.438010  40.076114  2016-09-30   965.0       297.5  134.00          3   \n",
       "4  116.428392  39.886229  2016-08-28   927.0       392.0   81.00          2   \n",
       "\n",
       "  drawingRoom  kitchen bathRoom floor constructionTime  renovationCondition  \\\n",
       "0           1        1        1  高 26             2005                    3   \n",
       "1           2        1        2  高 22             2004                    4   \n",
       "2           2        1        3   中 4             2005                    3   \n",
       "3           1        1        1  底 21             2008                    1   \n",
       "4           1        1        1   中 6             1960                    2   \n",
       "\n",
       "   buildingStructure  ladderRatio  elevator  subway  district  \n",
       "0                  6        0.217       1.0     1.0         7  \n",
       "1                  6        0.667       1.0     0.0         7  \n",
       "2                  6        0.500       1.0     0.0         7  \n",
       "3                  6        0.273       1.0     0.0         6  \n",
       "4                  2        0.333       0.0     1.0         1  "
      ]
     },
     "execution_count": 4,
     "metadata": {},
     "output_type": "execute_result"
    }
   ],
   "source": [
    "housing_dropped = housing.drop(columns=['Unnamed: 0', 'url', 'id', 'Cid'])\n",
    "\n",
    "housing_dropped.head()"
   ]
  },
  {
   "attachments": {},
   "cell_type": "markdown",
   "metadata": {
    "id": "pK7bn4sdwsV3"
   },
   "source": [
    "<h2 align=right style=\"line-height:200%;font-family=vazir;color:#0099cc\">\n",
    "<font face=\"vazir\" color=\"#0099cc\">\n",
    "Part Two\n",
    "</font>\n",
    "</h2>\n",
    "<p dir=ltr style=\"direction: ltr;text-align: justify;line-height:200%;font-family=vazir;font-size=medium\">\n",
    "<font face=\"vazir\" size=3>\n",
    "We create a dataframe named <code>housing_null</code> where the indices are the column names and a column named <code>0</code> contains the count of missing values for each column. The first five rows of this dataframe will look like this:\n",
    "</font>\n",
    "</p>\n",
    "\n",
    "<center>\n",
    "<p style=\"text-align: left;line-height:200%;font-family=vazir;font-size=medium\">\n",
    "\n",
    "| | <code>0</code> |\n",
    "| :---: | :---: |\n",
    "| <code>Lng</code> | 0 |\n",
    "| <code>Lat</code> | 0 |\n",
    "| <code>tradeTime</code> | 0 |\n",
    "| <code>DOM</code> | 157977 |\n",
    "| <code>totalPrice</code> | 0 |\n",
    "\n",
    "</p>\n",
    "</center>\n"
   ]
  },
  {
   "cell_type": "code",
   "execution_count": 5,
   "metadata": {
    "colab": {
     "base_uri": "https://localhost:8080/",
     "height": 588
    },
    "id": "A-hZf01QukJQ",
    "outputId": "4ed36ad0-49cb-47ae-b5b4-e196041a13a7",
    "scrolled": true
   },
   "outputs": [
    {
     "data": {
      "text/html": [
       "<div>\n",
       "<style scoped>\n",
       "    .dataframe tbody tr th:only-of-type {\n",
       "        vertical-align: middle;\n",
       "    }\n",
       "\n",
       "    .dataframe tbody tr th {\n",
       "        vertical-align: top;\n",
       "    }\n",
       "\n",
       "    .dataframe thead th {\n",
       "        text-align: right;\n",
       "    }\n",
       "</style>\n",
       "<table border=\"1\" class=\"dataframe\">\n",
       "  <thead>\n",
       "    <tr style=\"text-align: right;\">\n",
       "      <th></th>\n",
       "      <th>0</th>\n",
       "    </tr>\n",
       "  </thead>\n",
       "  <tbody>\n",
       "    <tr>\n",
       "      <th>Lng</th>\n",
       "      <td>0</td>\n",
       "    </tr>\n",
       "    <tr>\n",
       "      <th>Lat</th>\n",
       "      <td>0</td>\n",
       "    </tr>\n",
       "    <tr>\n",
       "      <th>tradeTime</th>\n",
       "      <td>0</td>\n",
       "    </tr>\n",
       "    <tr>\n",
       "      <th>DOM</th>\n",
       "      <td>157977</td>\n",
       "    </tr>\n",
       "    <tr>\n",
       "      <th>totalPrice</th>\n",
       "      <td>0</td>\n",
       "    </tr>\n",
       "  </tbody>\n",
       "</table>\n",
       "</div>"
      ],
      "text/plain": [
       "                 0\n",
       "Lng              0\n",
       "Lat              0\n",
       "tradeTime        0\n",
       "DOM         157977\n",
       "totalPrice       0"
      ]
     },
     "execution_count": 5,
     "metadata": {},
     "output_type": "execute_result"
    }
   ],
   "source": [
    "missing_values=housing_dropped.isnull().sum()\n",
    "housing_null = pd.DataFrame(missing_values,columns=[0])\n",
    "housing_null.head()\n"
   ]
  },
  {
   "attachments": {},
   "cell_type": "markdown",
   "metadata": {
    "id": "xv-spjYxzdeN"
   },
   "source": [
    "<p dir=ltr style=\"direction: ltr;text-align: left;line-height:200%;font-family=vazir;font-size=medium\">\n",
    "<font face=\"vazir\" size=3>\n",
    "The <code>DOM</code> column, which indicates the number of days a listing has been on the website, has a very high number of missing values. If we were to remove rows where the <code>DOM</code> value is missing, nearly half of our data would be lost! On the other hand, this feature holds significant insights about the houses, and removing the <code>DOM</code> column is not a sensible option. Therefore, we must consider filling in the missing values for this column.\n",
    "</font>\n",
    "</p>\n"
   ]
  },
  {
   "cell_type": "markdown",
   "metadata": {
    "id": "xtWYi7IBzry1"
   },
   "source": [
    "<p dir=ltr style=\"direction: ltr;text-align: left;line-height:200%;font-family=vazir;font-size=medium\">\n",
    "<font face=\"vazir\" size=3>\n",
    "We can use the mean or mode of the column to fill in the missing values. Let's take a look at a box plot for a better decision-making process.\n",
    "</font>\n",
    "</p>\n"
   ]
  },
  {
   "cell_type": "code",
   "execution_count": 6,
   "metadata": {
    "colab": {
     "base_uri": "https://localhost:8080/",
     "height": 286
    },
    "id": "0vUO6T4YuvYT",
    "outputId": "2a9e43c4-9949-4766-922c-3b39b9966923",
    "scrolled": true
   },
   "outputs": [
    {
     "data": {
      "text/plain": [
       "<Axes: >"
      ]
     },
     "execution_count": 6,
     "metadata": {},
     "output_type": "execute_result"
    },
    {
     "data": {
      "image/png": "[encoded data removed]",
      "text/plain": [
       "<Figure size 640x480 with 1 Axes>"
      ]
     },
     "metadata": {},
     "output_type": "display_data"
    }
   ],
   "source": [
    "housing_dropped.DOM.plot(kind = 'box')"
   ]
  },
  {
   "attachments": {},
   "cell_type": "markdown",
   "metadata": {
    "id": "efMJ3eKpzyNQ"
   },
   "source": [
    "<p dir=ltr style=\"direction: ltr;text-align: left;line-height:200%;font-family=vazir;font-size=medium\">\n",
    "<font face=\"vazir\" size=3>\n",
    "Unfortunately, there are many outlier values in this column. In this situation, using the mode is a better option. (For an introduction to various methods of dealing with missing data, see \n",
    "<a href=\"https://stackabuse.com/python-how-to-handle-missing-dataframe-values-in-pandas/\">this link</a>.)\n",
    "</font>\n",
    "</p>\n"
   ]
  },
  {
   "attachments": {},
   "cell_type": "markdown",
   "metadata": {
    "id": "4m7CT03Uz6ec"
   },
   "source": [
    "<p dir=ltr style=\"direction: ltr;text-align: left;line-height:200%;font-family=vazir;font-size=medium\">\n",
    "<font face=\"vazir\" size=3>\n",
    "First, we use the <code>copy</code> method to take a copy of the original dataframe so that we can continue the process of managing missing values on it. We will name this new dataframe <code>housing_no_missing</code>.\n",
    "</font>\n",
    "</p>\n"
   ]
  },
  {
   "cell_type": "code",
   "execution_count": 7,
   "metadata": {
    "id": "HFt1T-7Dz5id",
    "scrolled": true
   },
   "outputs": [],
   "source": [
    "housing_no_missing = housing_dropped.copy()"
   ]
  },
  {
   "attachments": {},
   "cell_type": "markdown",
   "metadata": {
    "id": "JN_j0PmF0KWw"
   },
   "source": [
    "<div dir=ltr id=\"start\" style=\"direction: ltr;text-align: justify;line-height:200%;font-family:vazir;font-size=medium\">\n",
    "\t<font face=\"vazir\" size=3>\n",
    "The new dataframe is exactly like the previous one, and changing it does not alter the original dataframe (if we had not used the <code>copy</code> function, modifying the new dataframe would have changed both).\n",
    "</div>\n"
   ]
  },
  {
   "attachments": {},
   "cell_type": "markdown",
   "metadata": {
    "id": "6tck4LGH2Vvu"
   },
   "source": [
    "<h2 align=right style=\"line-height:200%;font-family=vazir;color:#0099cc\">\n",
    "<font face=\"vazir\" color=\"#0099cc\">\n",
    "Part Three\n",
    "</font>\n",
    "</h2>\n",
    "<p dir=ltr style=\"direction: ltr;text-align: left;line-height:200%;font-family=vazir;font-size=medium\">\n",
    "<font face=\"vazir\" size=3>\n",
    "In the <code>housing_no_missing</code> dataframe, we replace the missing values in the <code>DOM</code> column with the mode of that column. Afterward, we remove rows where the values of <code>elevator</code> or <code>subway</code> are missing.\n",
    "</font>\n",
    "</p>\n"
   ]
  },
  {
   "cell_type": "code",
   "execution_count": 8,
   "metadata": {
    "id": "oo0Zcx1qzzZZ",
    "scrolled": true
   },
   "outputs": [],
   "source": [
    "mode_value=housing_no_missing[\"DOM\"].mode()[0]\n",
    "housing_no_missing[\"DOM\"]=housing_no_missing[\"DOM\"].fillna(mode_value)\n",
    "housing_no_missing=housing_no_missing.dropna(subset=[\"subway\",\"elevator\"])"
   ]
  },
  {
   "cell_type": "code",
   "execution_count": 9,
   "metadata": {
    "scrolled": true
   },
   "outputs": [
    {
     "name": "stdout",
     "output_type": "stream",
     "text": [
      "<class 'pandas.core.frame.DataFrame'>\n",
      "Index: 318819 entries, 0 to 318850\n",
      "Data columns (total 18 columns):\n",
      " #   Column               Non-Null Count   Dtype  \n",
      "---  ------               --------------   -----  \n",
      " 0   Lng                  318819 non-null  float64\n",
      " 1   Lat                  318819 non-null  float64\n",
      " 2   tradeTime            318819 non-null  object \n",
      " 3   DOM                  318819 non-null  float64\n",
      " 4   totalPrice           318819 non-null  float64\n",
      " 5   square               318819 non-null  float64\n",
      " 6   livingRoom           318819 non-null  object \n",
      " 7   drawingRoom          318819 non-null  object \n",
      " 8   kitchen              318819 non-null  int64  \n",
      " 9   bathRoom             318819 non-null  object \n",
      " 10  floor                318819 non-null  object \n",
      " 11  constructionTime     318819 non-null  object \n",
      " 12  renovationCondition  318819 non-null  int64  \n",
      " 13  buildingStructure    318819 non-null  int64  \n",
      " 14  ladderRatio          318819 non-null  float64\n",
      " 15  elevator             318819 non-null  float64\n",
      " 16  subway               318819 non-null  float64\n",
      " 17  district             318819 non-null  int64  \n",
      "dtypes: float64(8), int64(4), object(6)\n",
      "memory usage: 46.2+ MB\n"
     ]
    }
   ],
   "source": [
    "housing_no_missing.info()"
   ]
  },
  {
   "attachments": {},
   "cell_type": "markdown",
   "metadata": {
    "id": "JGqoAI6f2feM"
   },
   "source": [
    "<p dir=ltr style=\"direction: ltr;text-align: left;line-height:200%;font-family=vazir;font-size=medium\">\n",
    "<font face=\"vazir\" size=3>\n",
    "After performing this operation, we no longer have any missing data and can move on to the next step of the project. In the next step, we will use the <code>housing_no_missing</code> dataframe. We must also ensure that when saving the file to disk, we choose an encoder that can recognize all the characters in the dataframe.\n",
    "</font>\n",
    "</p>\n"
   ]
  },
  {
   "cell_type": "code",
   "execution_count": 10,
   "metadata": {
    "id": "a9tOkgKH2tuG",
    "scrolled": true
   },
   "outputs": [],
   "source": [
    "housing_no_missing.to_csv('housing_no_missing.csv', encoding='gbk', index=False)"
   ]
  },
  {
   "attachments": {},
   "cell_type": "markdown",
   "metadata": {},
   "source": [
    "<h2 align=right style=\"line-height:200%;font-family=vazir;color:#0099cc\">\n",
    "<font face=\"vazir\" color=\"#0099cc\">\n",
    "<b>Answer Cell</b>\n",
    "</font>\n",
    "</h2>\n",
    "\n",
    "<p dir=ltr style=\"direction: ltr; text-align: justify; line-height:200%; font-family=vazir; font-size=medium\">\n",
    "<font face=\"vazir\" size=3>\n",
    "    To create the file <code>result.zip</code>, run the cell below. Ensure that any changes made in the notebook are saved (<code>ctrl+s</code>) before running it, so that our code can be reviewed if support is needed.\n",
    "</font>\n",
    "</p>\n"
   ]
  },
  {
   "cell_type": "code",
   "execution_count": 11,
   "metadata": {
    "scrolled": true
   },
   "outputs": [
    {
     "name": "stdout",
     "output_type": "stream",
     "text": [
      "File Paths:\n",
      "['housing_dropped_cols.npy', 'housing_null.npy', 'housing_no_missing_DOM.npy', '1_fill_missing_values.ipynb']\n"
     ]
    }
   ],
   "source": [
    "import zipfile\n",
    "import joblib\n",
    "import numpy as np\n",
    "\n",
    "np.save(\"housing_dropped_cols\", np.array(housing_dropped.columns.to_list()))\n",
    "np.save(\"housing_null\", housing_null.to_numpy())\n",
    "np.save(\"housing_no_missing_DOM\", housing_no_missing['DOM'].to_numpy())\n",
    "\n",
    "def compress(file_names):\n",
    "    print(\"File Paths:\")\n",
    "    print(file_names)\n",
    "    compression = zipfile.ZIP_DEFLATED\n",
    "    with zipfile.ZipFile(\"result.zip\", mode=\"w\") as zf:\n",
    "        for file_name in file_names:\n",
    "            zf.write('./' + file_name, file_name, compress_type=compression)\n",
    "\n",
    "file_names = [\"housing_dropped_cols.npy\", \"housing_null.npy\", \"housing_no_missing_DOM.npy\", \"1_fill_missing_values.ipynb\"]\n",
    "compress(file_names)"
   ]
  },
  {
   "cell_type": "code",
   "execution_count": null,
   "metadata": {},
   "outputs": [],
   "source": []
  }
 ],
 "metadata": {
  "colab": {
   "name": "step1.ipynb",
   "provenance": []
  },
  "kernelspec": {
   "display_name": "Python 3",
   "language": "python",
   "name": "python3"
  },
  "language_info": {
   "codemirror_mode": {
    "name": "ipython",
    "version": 3
   },
   "file_extension": ".py",
   "mimetype": "text/x-python",
   "name": "python",
   "nbconvert_exporter": "python",
   "pygments_lexer": "ipython3",
   "version": "3.12.3"
  },
  "vscode": {
   "interpreter": {
    "hash": "44e7e1b8fa2096bd5707ed7fd18b1724a2db25f4c565a7673f8b6e7bfc49d25d"
   }
  }
 },
 "nbformat": 4,
 "nbformat_minor": 2
}
