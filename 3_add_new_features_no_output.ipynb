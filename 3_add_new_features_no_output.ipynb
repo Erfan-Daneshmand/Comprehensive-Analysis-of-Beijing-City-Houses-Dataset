{
 "cells": [
  {
   "attachments": {},
   "cell_type": "markdown",
   "metadata": {},
   "outputs": [],
   "source": [
    "<h1 align=center style=\"line-height:200%;font-family=vazir;color:#0099cc\">\n",
    "<font face=\"vazir\" color=\"#0099cc\">\n",
    "Adding New Features\n",
    "</font>\n",
    "</h1>\n",
    "\n",
    "<p dir=ltr style=\"direction: ltr;text-align: justify;line-height:200%;font-family=vazir;font-size=medium\">\n",
    "<font face=\"vazir\" size=3>\n",
    "The Beijing housing dataset provides us with very useful information, but sometimes we can generate new features using the existing ones. For example, by having the area and the total price of each house, we can calculate the price per square meter for each house, which is an important feature in real estate analysis. In this part of the project, we will add two new features to our dataset and then start drawing charts to examine the relationships between them using visualization tools.\n",
    "</font>\n",
    "</p>\n"
   ]
  },
  {
   "attachments": {},
   "cell_type": "markdown",
   "metadata": {},
   "outputs": [],
   "source": [
    "<h2 align=right style=\"line-height:200%;font-family=vazir;color:#0099cc\">\n",
    "<font face=\"vazir\" color=\"#0099cc\">\n",
    "Dataset\n",
    "</font>\n",
    "</h2>\n",
    "<p dir=ltr style=\"direction: ltr;text-align: justify;line-height:200%;font-family=vazir;font-size=medium\">\n",
    "<font face=\"vazir\" size=3>\n",
    "First, we read the dataset file <code>housing_no_outlier_full.csv</code>.\n",
    "</font>\n",
    "</p>\n"
   ]
  },
  {
   "cell_type": "code",
   "execution_count": 1,
   "metadata": {
    "id": "0g-sHR5ImR30"
   },
   "outputs": [],
   "source": [
    "import pandas as pd\n",
    "import numpy as np\n",
    "import matplotlib.pyplot as plt\n",
    "import seaborn as sns\n",
    "\n",
    "housing_no_outlier = pd.read_csv('housing_no_outlier.csv', encoding='gbk')\n",
    "housing_no_outlier.head()"
   ]
  },
  {
   "attachments": {},
   "cell_type": "markdown",
   "metadata": {
    "id": "zI-wBf6hsFSj"
   },
   "outputs": [],
   "source": [
    "<h2 align=right style=\"line-height:200%;font-family=vazir;color:#0099cc\">\n",
    "<font face=\"vazir\" color=\"#0099cc\">\n",
    "Part One\n",
    "</font>\n",
    "</h2>\n",
    "<p dir=ltr style=\"direction: ltr;text-align: justify;line-height:200%;font-family=vazir;font-size=medium\">\n",
    "<font face=\"vazir\" size=3>\n",
    "One of the exciting tasks you can do in such analyses is to create new features based on existing ones. However, this should only be done if the new feature is considered useful.\n",
    "As the first step, we want to calculate the distance of each house to the center of the capital of China and store it in a column named <code>distanceToCapital</code>.\n",
    "The longitude and latitude of the center of the capital of China are <code>116.4074</code> and <code>39.9042</code>, respectively.\n",
    "You can use the formula below to calculate the distance.\n",
    "Remember that in the calculations, all angles must be converted to radians. We will name the new dataframe that includes this column <code>housing_capital</code>.\n",
    "<br>\n",
    "</font>\n",
    "</p>\n"
   ]
  },
  {
   "attachments": {},
   "cell_type": "markdown",
   "metadata": {},
   "outputs": [],
   "source": [
    "$$ distance = acos(sinφ_1*sinφ_2 + cosφ_1*cosφ_2 * cos(λ_2-λ_1)) * 6371.0088 $$\n",
    "$$ φ: \\text{latitude} $$ \n",
    "$$ λ: \\text{longitude} $$ "
   ]
  },
  {
   "cell_type": "code",
   "execution_count": 2,
   "metadata": {
    "id": "kDJDaGg8mpbP"
   },
   "outputs": [],
   "source": [
    "from math import radians\n",
    "capital_Lng = radians(116.4074)\n",
    "capital_Lat = radians(39.9042)\n",
    "\n",
    "distances_in_radian=housing_no_outlier.copy()\n",
    "distances_in_radian[\"Lng\"]=distances_in_radian[\"Lng\"].apply(radians)\n",
    "distances_in_radian[\"Lat\"]=distances_in_radian[\"Lat\"].apply(radians)\n",
    "housing_capital = housing_no_outlier.copy()\n",
    "housing_capital['distanceToCapital'] = np.arccos(np.sin(distances_in_radian[\"Lat\"])*np.sin(capital_Lat)+\n",
    "                                              np.cos(distances_in_radian[\"Lat\"])*np.cos(capital_Lat)*\n",
    "                                              np.cos(distances_in_radian[\"Lng\"]-capital_Lng))*6371.0088\n",
    "\n",
    "housing_capital.head()"
   ]
  },
  {
   "attachments": {},
   "cell_type": "markdown",
   "metadata": {
    "id": "vg7rk5ItwRMg"
   },
   "outputs": [],
   "source": [
    "<h2 align=right style=\"line-height:200%;font-family=vazir;color:#0099cc\">\n",
    "<font face=\"vazir\" color=\"#0099cc\">\n",
    "Part Two\n",
    "</font>\n",
    "</h2>\n",
    "<p dir=ltr style=\"direction: ltr;text-align: justify;line-height:200%;font-family=vazir;font-size=medium\">\n",
    "<font face=\"vazir\" size=3>\n",
    "In this dataset, the transaction price and the area of each house are specified. However, the price per square meter is not. We will calculate and store the price per square meter in the column <code>pricePerSquare</code>. Note that the total price is based on <i>million yuan</i>. Therefore, the price we calculate for each square meter should be multiplied by one thousand to obtain the price in <i>yuan</i>. We will name the resulting dataframe <code>housing_PPS</code>.\n",
    "</font>\n",
    "</p>\n"
   ]
  },
  {
   "cell_type": "code",
   "execution_count": 3,
   "metadata": {
    "id": "CnAs0TWGwRji"
   },
   "outputs": [],
   "source": [
    "housing_PPS = housing_capital.copy()\n",
    "\n",
    "housing_PPS['pricePerSquare'] = (housing_PPS[\"totalPrice\"]/housing_PPS[\"square\"])*1000\n",
    "\n",
    "housing_PPS.head()"
   ]
  },
  {
   "attachments": {},
   "cell_type": "markdown",
   "metadata": {
    "id": "okbnq7-uwvzy"
   },
   "outputs": [],
   "source": [
    "<p dir=ltr style=\"direction: ltr;text-align: justify;line-height:200%;font-family=vazir;font-size=medium\">\n",
    "<font face=\"vazir\" size=3>\n",
    "We want to use various data visualization methods to extract information that meets our needs. Our dataset has no missing values, no outliers, and no columns stored in an inappropriate format. As a first step, let's look at the histogram of the numerical columns.\n",
    "<br>\n",
    "To create a table of histograms for all numerical columns, we need to use the <code>hist</code> function. Note that the <code>hist</code> function differs from what we saw in the pandas interface tutorials. <code>plot(kind='hist')</code> would draw the histogram for all columns on one axis, but the <code>hist</code> function draws separate axes for each column.\n",
    "</font>\n",
    "</p>\n"
   ]
  },
  {
   "cell_type": "code",
   "execution_count": 4,
   "metadata": {
    "colab": {
     "base_uri": "https://localhost:8080/",
     "height": 915
    },
    "id": "dCZp17E5xJ3O",
    "outputId": "43a5d762-e9c9-4de6-cb58-08230324ec44"
   },
   "outputs": [],
   "source": [
    "fig , ax = plt.subplots()\n",
    "fig.set_size_inches(15,15)\n",
    "housing_PPS.hist(ax = ax, bins = 20);"
   ]
  },
  {
   "cell_type": "markdown",
   "metadata": {
    "id": "2wVns1Ghxf-f"
   },
   "outputs": [],
   "source": [
    "<p dir=ltr style=\"direction: ltr;text-align: justify;line-height:200%;font-family=vazir;font-size=medium\">\n",
    "<font face=\"vazir\" size=3>\n",
    "According to the above chart, house prices have a skew towards 200 million yuan. Most houses were built around the year 2000. The maximum distance from the center of the capital is 40 kilometers. Most houses have two living rooms. More information can be extracted from this chart.\n",
    "</font>\n",
    "</p>\n"
   ]
  },
  {
   "cell_type": "markdown",
   "metadata": {},
   "outputs": [],
   "source": [
    "<h2 align=right style=\"line-height:200%;font-family=vazir;color:#0099cc\">\n",
    "<font face=\"vazir\" color=\"#0099cc\">\n",
    "Investigating the Effect of Distance from the Center on Price per Square Meter\n",
    "</font>\n",
    "</h2>\n"
   ]
  },
  {
   "attachments": {},
   "cell_type": "markdown",
   "metadata": {},
   "outputs": [],
   "source": [
    "<p dir=ltr style=\"direction: ltr;text-align: justify;line-height:200%;font-family=vazir;font-size=medium\">\n",
    "<font face=\"vazir\" size=3>\n",
    "We want to use the new column we created to see how the price per square meter changes as we move away from the city center. For this, we can use the <code>regplot</code> from Seaborn, which not only displays the points but also shows the data trend with regression.\n",
    "</font>\n",
    "</p>\n"
   ]
  },
  {
   "cell_type": "code",
   "execution_count": 5,
   "metadata": {
    "colab": {
     "base_uri": "https://localhost:8080/",
     "height": 497
    },
    "id": "LNToqUrbxgRP",
    "outputId": "e09d99ff-4175-4800-8246-10c09e0f2eda"
   },
   "outputs": [],
   "source": [
    "fig , ax = plt.subplots()\n",
    "fig.set_size_inches(8,8)\n",
    "\n",
    "sns.regplot(ax = ax, data = housing_PPS, x = 'distanceToCapital', y = 'pricePerSquare', \n",
    "                   line_kws={'color':'red'}, scatter_kws= {'alpha': 0.1});"
   ]
  },
  {
   "attachments": {},
   "cell_type": "markdown",
   "metadata": {
    "id": "Mgu2HxecE5g6"
   },
   "outputs": [],
   "source": [
    "<h2 align=right style=\"line-height:200%;font-family=vazir;color:#0099cc\">\n",
    "<font face=\"vazir\" color=\"#0099cc\">\n",
    "Part Three\n",
    "</font>\n",
    "</h2>\n",
    "<p dir=ltr style=\"direction: ltr;text-align: justify;line-height:200%;font-family=vazir;font-size=medium\">\n",
    "<font face=\"vazir\" size=3>\n",
    "In this section, we want to examine how having an elevator affects the\n",
    "<b>\n",
    " price per square meter\n",
    "</b>\n",
    " of houses. There are various charts we can use for this analysis. For example, we can use a bar chart to compare the average price of houses with and without elevators, or a box plot to show the price distribution. We will use a density plot for the comparison.\n",
    "<br>\n",
    "<ul style=\"direction: ltr;text-align: left;\">\n",
    "  <li>\n",
    "First, create a figure with one axis and set the figure's width and height to 6 inches.\n",
    "</li>\n",
    "  <li>\n",
    "Using the pandas interface, plot the price distribution estimate for houses without an elevator. Plot this on the axis created in the previous step.\n",
    "</li>\n",
    "  <li>\n",
    "Then, plot the price distribution estimate for houses with an elevator on the same axis.\n",
    "</li>\n",
    "  <li>\n",
    "Adjust the settings so that the output matches the figure below. The colors used are:\n",
    "<ul>\n",
    "<li>\n",
    "Title color: <code>red</code>\n",
    "</li>\n",
    "<li>\n",
    "Axis background color: <code>#ffffcc</code>\n",
    "</li>\n",
    "<li>\n",
    "Figure background color: <code>khaki</code>\n",
    "</li>\n",
    "</ul>\n",
    "</font>\n",
    "</p>\n"
   ]
  },
  {
   "cell_type": "markdown",
   "metadata": {},
   "outputs": [],
   "source": [
    "<p style=\"text-align:center;\"><img src=\"output.png\"></p>"
   ]
  },
  {
   "cell_type": "code",
   "execution_count": 6,
   "metadata": {
    "colab": {
     "base_uri": "https://localhost:8080/",
     "height": 404
    },
    "id": "KELZT4208bUB",
    "outputId": "eb0dcbf0-09ca-4fc8-c186-25d498dbf29a"
   },
   "outputs": [],
   "source": [
    "\n",
    "fig, ax = plt.subplots()\n",
    "fig.set_size_inches(6, 6)\n",
    "\n",
    "# Set the custom style\n",
    "fig.patch.set_facecolor('khaki')\n",
    "ax.set_facecolor('#ffffcc')\n",
    "\n",
    "sns.kdeplot(data=housing_PPS[housing_PPS['elevator'] == 'no elevator']['pricePerSquare'], \n",
    "            color='blue', label='no elevator', ax=ax)\n",
    "sns.kdeplot(data=housing_PPS[housing_PPS['elevator'] == 'has elevator']['pricePerSquare'], \n",
    "            color='orange', label='has elevator', ax=ax)\n",
    "\n",
    "# Labels, Title, and Legend\n",
    "ax.set_xlabel('pricePerSquare')\n",
    "ax.set_ylabel('Density')\n",
    "ax.set_title('effect of elevator on price', color='red', fontsize=16)\n",
    "ax.legend()\n",
    "\n",
    "plt.show()\n"
   ]
  },
  {
   "attachments": {},
   "cell_type": "markdown",
   "metadata": {},
   "outputs": [],
   "source": [
    "<p dir=ltr style=\"direction: ltr;text-align: left;line-height:200%;font-family=vazir;font-size=medium\">\n",
    "<font face=\"vazir\" size=3>\n",
    "We will save the final dataframe in a file named <code>housing_extended.csv</code> for use in the subsequent steps of the project.\n",
    "</font>\n",
    "</p>\n"
   ]
  },
  {
   "cell_type": "code",
   "execution_count": 7,
   "metadata": {
    "id": "8PtPoP2v026f"
   },
   "outputs": [],
   "source": [
    "housing_PPS.to_csv('housing_extended.csv', encoding='gbk', index=False)"
   ]
  },
  {
   "attachments": {},
   "cell_type": "markdown",
   "metadata": {},
   "outputs": [],
   "source": [
    "<h2 align=right style=\"line-height:200%;font-family=vazir;color:#0099cc\">\n",
    "<font face=\"vazir\" color=\"#0099cc\">\n",
    "<b>Answer Cell</b>\n",
    "</font>\n",
    "</h2>\n",
    "\n",
    "<p dir=ltr style=\"direction: ltr; text-align: justify; line-height:200%; font-family=vazir; font-size:medium\">\n",
    "<font face=\"vazir\" size=3>\n",
    "    To create the file <code>result.zip</code>, run the cell below. Ensure that any changes made in the notebook are saved (<code>ctrl+s</code>) before running it, so that our code can be reviewed if support is needed.\n",
    "</font>\n",
    "</p>\n"
   ]
  },
  {
   "cell_type": "code",
   "execution_count": 8,
   "metadata": {},
   "outputs": [],
   "source": [
    "import zipfile\n",
    "import joblib\n",
    "import nbformat as nbf\n",
    "\n",
    "ntbk = nbf.read(\"3_add_new_features.ipynb\", nbf.NO_CONVERT)\n",
    "new_ntbk = ntbk\n",
    "for cell in ntbk.cells:\n",
    "    cell['outputs']=[]\n",
    "nbf.write(new_ntbk, \"3_add_new_features_no_output.ipynb\", version=nbf.NO_CONVERT)\n",
    "\n",
    "housing_capital.head(100).to_csv(\"housing_capital.csv\") \n",
    "housing_PPS.head(100).to_csv(\"housing_PPS.csv\")\n",
    "joblib.dump(fig, \"fig\")\n",
    "\n",
    "def compress(file_names):\n",
    "    print(\"File Paths:\")\n",
    "    print(file_names)\n",
    "    compression = zipfile.ZIP_DEFLATED\n",
    "    with zipfile.ZipFile(\"result.zip\", mode=\"w\") as zf:\n",
    "        for file_name in file_names:\n",
    "            zf.write('./' + file_name, file_name, compress_type=compression)\n",
    "\n",
    "file_names = [\"housing_capital.csv\", \"housing_PPS.csv\", \"fig\", '3_add_new_features_no_output.ipynb']\n",
    "compress(file_names)"
   ]
  },
  {
   "cell_type": "code",
   "execution_count": null,
   "metadata": {},
   "outputs": [],
   "source": []
  }
 ],
 "metadata": {
  "colab": {
   "collapsed_sections": [],
   "name": "step3.ipynb",
   "provenance": []
  },
  "kernelspec": {
   "display_name": "Python 3",
   "language": "python",
   "name": "python3"
  },
  "language_info": {
   "codemirror_mode": {
    "name": "ipython",
    "version": 3
   },
   "file_extension": ".py",
   "mimetype": "text/x-python",
   "name": "python",
   "nbconvert_exporter": "python",
   "pygments_lexer": "ipython3",
   "version": "3.12.3"
  },
  "vscode": {
   "interpreter": {
    "hash": "44e7e1b8fa2096bd5707ed7fd18b1724a2db25f4c565a7673f8b6e7bfc49d25d"
   }
  }
 },
 "nbformat": 4,
 "nbformat_minor": 4
}
